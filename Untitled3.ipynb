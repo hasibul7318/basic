{
  "nbformat": 4,
  "nbformat_minor": 0,
  "metadata": {
    "colab": {
      "provenance": [],
      "authorship_tag": "ABX9TyPLeeu8fy6EpN8DkH/0GEC7",
      "include_colab_link": true
    },
    "kernelspec": {
      "name": "python3",
      "display_name": "Python 3"
    },
    "language_info": {
      "name": "python"
    }
  },
  "cells": [
    {
      "cell_type": "markdown",
      "metadata": {
        "id": "view-in-github",
        "colab_type": "text"
      },
      "source": [
        "<a href=\"https://colab.research.google.com/github/hasibul7318/basic/blob/main/Untitled3.ipynb\" target=\"_parent\"><img src=\"https://colab.research.google.com/assets/colab-badge.svg\" alt=\"Open In Colab\"/></a>"
      ]
    },
    {
      "cell_type": "markdown",
      "source": [
        "# New Section import libraries"
      ],
      "metadata": {
        "id": "48l0SwmkTGXZ"
      }
    },
    {
      "cell_type": "code",
      "execution_count": 8,
      "metadata": {
        "id": "ADf6YmMgDWz3"
      },
      "outputs": [],
      "source": [
        "\n",
        "import requests\n",
        "import pandas as pd\n",
        "import numpy as np\n",
        "from sklearn.model_selection import train_test_split\n",
        "from sklearn.preprocessing import LabelEncoder\n",
        "from sklearn.ensemble import RandomForestClassifier, RandomForestRegressor\n",
        "from sklearn.metrics import accuracy_score, mean_squared_error\n",
        "from datetime import datetime, timedelta\n",
        "import pytz"
      ]
    },
    {
      "cell_type": "code",
      "source": [
        "API_KEY ='dcba9688a778ca233f5be09a0ea0dc72'\n",
        "BASE_URL ='hhttps://api.openweathermap.org/data/2.5/'"
      ],
      "metadata": {
        "id": "ENjBIJbGUaw3"
      },
      "execution_count": 9,
      "outputs": []
    },
    {
      "cell_type": "markdown",
      "source": [
        "current weather data\n"
      ],
      "metadata": {
        "id": "cQeWxxV2VYUR"
      }
    },
    {
      "cell_type": "code",
      "source": [
        "\n",
        "\n",
        "def get_current_weather(city):\n",
        "    \"\"\"\n",
        "    Fetches current weather data for a given city using an API.\n",
        "\n",
        "    :param city: str, name of the city\n",
        "    :return: dict, weather details or error message\n",
        "    \"\"\"\n",
        "    url = f\"{BASE_URL}weather?q={city}&appid={API_KEY}&units=metric\"\n",
        "    response = requests.get(url)\n",
        "\n",
        "    if response.status_code != 200:\n",
        "        return {'error': f\"Error {response.status_code}: {response.json().get('message', 'Invalid request')}\"}\n",
        "\n",
        "    data = response.json()\n",
        "\n",
        "    return {\n",
        "        'city': data.get('name', 'N/A'),\n",
        "        'temperature': round(data['main'].get('temp', 0)),\n",
        "        'feels_like': round(data['main'].get('feels_like', 0)),\n",
        "        'temp_min': round(data['main'].get('temp_min', 0)),\n",
        "        'temp_max': round(data['main'].get('temp_max', 0)),\n",
        "        'humidity': data['main'].get('humidity', 0),\n",
        "        'wind_speed': data['wind'].get('speed', 0),\n",
        "        'wind_gust_dir': data['wind'].get('deg', 0),  # Added .get() for safety\n",
        "        'pressure': data['main'].get('pressure', 0),  # Fixed missing comma\n",
        "        'wind_gust_speed': data['wind'].get('gust', 0),  # Corrected wind gust speed\n",
        "        'description': data['weather'][0].get('description', 'N/A') if data.get('weather') else 'N/A',\n",
        "        'icon': data['weather'][0].get('icon', '') if data.get('weather') else '',\n",
        "        'country': data['sys'].get('country', 'N/A'),\n",
        "    }\n",
        "\n"
      ],
      "metadata": {
        "id": "vcIdkYXOVbQH"
      },
      "execution_count": 31,
      "outputs": []
    },
    {
      "cell_type": "markdown",
      "source": [
        "read historical data\n"
      ],
      "metadata": {
        "id": "XbVhMVb3Ygmf"
      }
    },
    {
      "cell_type": "code",
      "source": [
        "def read_historical_data(filename):\n",
        "    \"\"\"\n",
        "    Reads a CSV file, removes missing values and duplicates, and returns a cleaned DataFrame.\n",
        "\n",
        "    :param filename: str, path to the CSV file\n",
        "    :return: pandas DataFrame\n",
        "    \"\"\"\n",
        "    df = pd.read_csv(filename)  # Load CSV file into DataFrame\n",
        "    df = df.dropna()  # Remove rows with missing values\n",
        "    df = df.drop_duplicates()  # Remove duplicate rows\n",
        "\n",
        "    return df\n"
      ],
      "metadata": {
        "id": "dsr7OC3aYnVH"
      },
      "execution_count": 11,
      "outputs": []
    },
    {
      "cell_type": "markdown",
      "source": [
        "prepare data for training"
      ],
      "metadata": {
        "id": "43J9GWLNbBnA"
      }
    },
    {
      "cell_type": "code",
      "source": [
        "def prepare_data(data):\n",
        "    \"\"\"\n",
        "    Prepares the dataset for training.\n",
        "    - Encodes categorical variables.\n",
        "    - Selects relevant features and target variables.\n",
        "    \"\"\"\n",
        "\n",
        "    # Create a LabelEncoder instance\n",
        "    le = LabelEncoder()\n",
        "\n",
        "    # Encode categorical features\n",
        "    data['WindGustDir'] = le.fit_transform(data['WindGustDir'])\n",
        "    data['RainTomorrow'] = le.fit_transform(data['RainTomorrow'])\n",
        "\n",
        "    # Define the feature variables (X) and target variable (y)\n",
        "    X = data[['MinTemp', 'MaxTemp', 'WindGustDir', 'WindGustSpeed', 'Humidity', 'Pressure']]\n",
        "    y = data['RainTomorrow']\n",
        "\n",
        "    return X, y, le"
      ],
      "metadata": {
        "id": "VEkoas2kogPo"
      },
      "execution_count": 12,
      "outputs": []
    },
    {
      "cell_type": "markdown",
      "source": [
        "train rain prediction model\n"
      ],
      "metadata": {
        "id": "W4YrmR0pdO8p"
      }
    },
    {
      "cell_type": "code",
      "source": [
        "def train_rain_model(x, y):\n",
        "    \"\"\"\n",
        "    Trains a RandomForestClassifier to predict rain and evaluates its performance.\n",
        "\n",
        "    :param x: pandas DataFrame or numpy array (features)\n",
        "    :param y: pandas Series or numpy array (target variable)\n",
        "    :return: Trained model\n",
        "    \"\"\"\n",
        "    # Split the dataset into training and testing sets\n",
        "    x_train, x_test, y_train, y_test = train_test_split(x, y, test_size=0.2, random_state=42)\n",
        "\n",
        "    # Initialize the model\n",
        "    model = RandomForestClassifier(n_estimators=100, random_state=42)\n",
        "\n",
        "    # Train the model\n",
        "    model.fit(x_train, y_train)\n",
        "\n",
        "    # Make predictions on the test set\n",
        "    y_pred = model.predict(x_test)\n",
        "\n",
        "    # Evaluate the model\n",
        "    print(\"Mean Squared Error for Rain Model:\", mean_squared_error(y_test, y_pred))\n",
        "\n",
        "    return model"
      ],
      "metadata": {
        "id": "_CFd4SbRdS0v"
      },
      "execution_count": 13,
      "outputs": []
    },
    {
      "cell_type": "markdown",
      "source": [
        "prepare regression data\n"
      ],
      "metadata": {
        "id": "t1rRhv0seIV_"
      }
    },
    {
      "cell_type": "code",
      "source": [
        "\n",
        "def prepare_regression_data(data, feature):\n",
        "    \"\"\"\n",
        "    Prepares the dataset for time-series regression, shifting the feature column.\n",
        "\n",
        "    :param data: pandas DataFrame\n",
        "    :param feature: str, column name to use for regression\n",
        "    :return: Tuple (X, y) as numpy arrays\n",
        "    \"\"\"\n",
        "    x, y = [], []  # Initialize lists for features and target values\n",
        "\n",
        "    for i in range(len(data) - 1):\n",
        "        x.append(data[feature].iloc[i])\n",
        "        y.append(data[feature].iloc[i + 1])\n",
        "\n",
        "    # Convert lists to numpy arrays\n",
        "    x = np.array(x).reshape(-1, 1)\n",
        "    y = np.array(y)\n",
        "\n",
        "    return x, y"
      ],
      "metadata": {
        "id": "1yA_Q_TpeIE_"
      },
      "execution_count": 14,
      "outputs": []
    },
    {
      "cell_type": "markdown",
      "source": [
        "train regression model"
      ],
      "metadata": {
        "id": "JHvEsOL3eybB"
      }
    },
    {
      "cell_type": "code",
      "source": [
        "def train_regression_model(x, y):\n",
        "    \"\"\"\n",
        "    Trains a RandomForestRegressor model on the given dataset.\n",
        "\n",
        "    :param x: numpy array or pandas DataFrame (features)\n",
        "    :param y: numpy array or pandas Series (target variable)\n",
        "    :return: Trained RandomForestRegressor model\n",
        "    \"\"\"\n",
        "    model = RandomForestRegressor(n_estimators=100, random_state=42)\n",
        "    model.fit(x, y)\n",
        "\n",
        "    return model"
      ],
      "metadata": {
        "id": "3Zwd_qfKe3c8"
      },
      "execution_count": 15,
      "outputs": []
    },
    {
      "cell_type": "markdown",
      "source": [
        "predict future"
      ],
      "metadata": {
        "id": "9tITgpjyfbuf"
      }
    },
    {
      "cell_type": "code",
      "source": [
        "def predict_future(model, current_value, steps=5):\n",
        "    \"\"\"\n",
        "    Predicts future values using a trained regression model.\n",
        "\n",
        "    :param model: Trained regression model (e.g., RandomForestRegressor)\n",
        "    :param current_value: The latest known value to start predictions\n",
        "    :param steps: Number of future predictions to make (default: 5)\n",
        "    :return: List of predicted future values\n",
        "    \"\"\"\n",
        "    predictions = [current_value]\n",
        "\n",
        "    for _ in range(steps):\n",
        "        next_value = model.predict(np.array([[predictions[-1]]]))  # Ensure correct input shape\n",
        "        predictions.append(next_value[0])  # Extract scalar value\n",
        "\n",
        "    return predictions[1:]  # Return only future predictions"
      ],
      "metadata": {
        "id": "Zy71GCdOfbUp"
      },
      "execution_count": 33,
      "outputs": []
    },
    {
      "cell_type": "markdown",
      "source": [
        "weather analysis"
      ],
      "metadata": {
        "id": "kx9S2W0Kf6f5"
      }
    },
    {
      "cell_type": "code",
      "source": [
        "\n",
        "def weather_view():\n",
        "    \"\"\"\n",
        "    Collects weather data, trains a rain prediction model, and displays results.\n",
        "    \"\"\"\n",
        "    # Get user input for city name\n",
        "    city = input(\"Enter any city name: \")\n",
        "\n",
        "    # Fetch current weather\n",
        "    current_weather = get_current_weather(city)\n",
        "\n",
        "    if 'error' in current_weather:\n",
        "        print(current_weather['error'])\n",
        "        return None  # Stop execution if there's an API error\n",
        "\n",
        "    # Load historical weather data\n",
        "    historical_data = read_historical_data('/content/weather.csv')\n",
        "\n",
        "    # Prepare data for training\n",
        "    (\"N\", 348.75, 360)  # Closing the loop back to North\n",
        "    x, y, le = prepare_data(historical_data)  # Ensure prepare_data() is defined\n",
        "\n",
        "    # Train the rain prediction model\n",
        "    rain_model = train_rain_model(x, y)\n",
        "\n",
        "    # Get wind direction in degrees\n",
        "    wind_deg = current_weather.get('wind_gust_dir', 0) % 360  # Default to 0 if key is missing\n",
        "\n",
        "    # Define compass points with their degree ranges\n",
        "    compass_points = [\n",
        "        (\"N\", 0, 11.25), (\"NNE\", 11.25, 33.75), (\"NE\", 33.75, 56.25),\n",
        "        (\"ENE\", 56.25, 78.75), (\"E\", 78.75, 101.25), (\"ESE\", 101.25, 123.75),\n",
        "        (\"SE\", 123.75, 146.25), (\"SSE\", 146.25, 168.75), (\"S\", 168.75, 191.25),\n",
        "        (\"SSW\", 191.25, 213.75), (\"SW\", 213.75, 236.25), (\"WSW\", 236.25, 258.75),\n",
        "        (\"W\", 258.75, 281.25), (\"WNW\", 281.25, 303.75), (\"NW\", 303.75, 326.25),\n",
        "        (\"NNW\", 326.25, 348.75)\n",
        "         ]\n",
        "    # Determine the compass direction\n",
        "    compass_direction = next(\n",
        "        point for point, start, end in compass_points if start <= wind_deg < end\n",
        "    )\n",
        "\n",
        "    # Encode wind direction (ensure label encoder is properly trained)\n",
        "    compass_direction_encoded = (\n",
        "        le.transform([compass_direction])[0] if compass_direction in le.classes_ else -1\n",
        "    )\n",
        "\n",
        "    # Prepare current weather data for prediction\n",
        "    current_data = {\n",
        "        'MinTemp': current_weather['temp_min'],\n",
        "        'MaxTemp': current_weather['temp_max'],\n",
        "        'WindGustDir': compass_direction_encoded,\n",
        "        'WindGustSpeed': current_weather.get('WindGustSpeed', 0),  # ✅ Fixed missing feature\n",
        "        'Humidity': current_weather['humidity'],\n",
        "        'Pressure': current_weather['pressure']\n",
        "    }\n",
        "\n",
        "    # Convert to DataFrame for prediction\n",
        "    current_df = pd.DataFrame([current_data])\n",
        "\n",
        "    # Predict rain for tomorrow\n",
        "    rain_prediction = rain_model.predict(current_df)[0]\n",
        "\n",
        "    # Prepare data for temperature and humidity regression\n",
        "    X_temp, y_temp = prepare_regression_data(historical_data, 'Temp')\n",
        "    X_hum, y_hum = prepare_regression_data(historical_data, 'Humidity')\n",
        "\n",
        "    # Train regression models\n",
        "    temp_model = train_regression_model(X_temp, y_temp)\n",
        "    hum_model = train_regression_model(X_hum, y_hum)\n",
        "\n",
        "\n",
        "    future_temp = predict_future(temp_model, current_weather['temp_min'])\n",
        "    future_hum = predict_future(hum_model, current_weather['humidity'])\n",
        "\n",
        "    # Set up time formatting\n",
        "    timezone = pytz.timezone('Asia/Kolkata')\n",
        "    now = datetime.now(timezone)\n",
        "    next_hour = now + timedelta(hours=1)\n",
        "    next_hour = next_hour.replace(minute=0, second=0, microsecond=0)\n",
        "    future_times = [(next_hour + timedelta(hours=i)).strftime(\"%H:00\") for i in range(5)]\n",
        "\n",
        "    # Display results\n",
        "    print(f\"\\nCity: {city}, {current_weather['country']}\")\n",
        "    print(f\"Current Temperature: {current_weather['temperature']}°C\")\n",
        "    print(f\"Feels Like: {current_weather['feels_like']}°C\")\n",
        "    print(f\"Minimum Temperature: {current_weather['temp_min']}°C\")\n",
        "    print(f\"Maximum Temperature: {current_weather['temp_max']}°C\")\n",
        "    print(f\"Humidity: {current_weather['humidity']}%\")\n",
        "    print(f\"Weather Prediction: {current_weather['description']}\")\n",
        "    print(f\"Rain Prediction: {'Yes' if rain_prediction else 'No'}\")\n",
        "\n",
        "    print(\"\\nFuture Temperature Predictions:\")\n",
        "    for time, temp in zip(future_times, future_temp):\n",
        "        print(f\"{time}: {round(temp, 1)}°C\")\n",
        "\n",
        "    print(\"\\nFuture Humidity Predictions:\")\n",
        "    for time, humidity in zip(future_times, future_hum):\n",
        "        print(f\"{time}: {round(humidity, 1)}%\")\n",
        "\n",
        "# Run the function\n",
        "weather_view()\n"
      ],
      "metadata": {
        "colab": {
          "base_uri": "https://localhost:8080/"
        },
        "id": "6UCn8F6AgBEY",
        "outputId": "768fc3e6-8ae7-45d9-85f4-5ba8fc1d208d"
      },
      "execution_count": 37,
      "outputs": [
        {
          "output_type": "stream",
          "name": "stdout",
          "text": [
            "Enter any city name: pune\n",
            "Mean Squared Error for Rain Model: 0.1506849315068493\n",
            "\n",
            "City: pune, IN\n",
            "Current Temperature: 36°C\n",
            "Feels Like: 33°C\n",
            "Minimum Temperature: 36°C\n",
            "Maximum Temperature: 36°C\n",
            "Humidity: 16%\n",
            "Weather Prediction: clear sky\n",
            "Rain Prediction: No\n",
            "\n",
            "Future Temperature Predictions:\n",
            "15:00: 33.1°C\n",
            "16:00: 25.1°C\n",
            "17:00: 20.1°C\n",
            "18:00: 16.6°C\n",
            "19:00: 14.4°C\n",
            "\n",
            "Future Humidity Predictions:\n",
            "15:00: 21.0%\n",
            "16:00: 21.1%\n",
            "17:00: 27.0%\n",
            "18:00: 34.8%\n",
            "19:00: 38.4%\n"
          ]
        }
      ]
    }
  ]
}